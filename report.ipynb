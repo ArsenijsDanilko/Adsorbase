{
 "cells": [
  {
   "cell_type": "markdown",
   "id": "292be4d4",
   "metadata": {},
   "source": [
    "# Adsorbase"
   ]
  }
 ],
 "metadata": {
  "kernelspec": {
   "display_name": "adsorbase",
   "language": "python",
   "name": "python3"
  },
  "language_info": {
   "name": "python",
   "version": "3.13.2"
  }
 },
 "nbformat": 4,
 "nbformat_minor": 5
}
