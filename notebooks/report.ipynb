{
 "cells": [
  {
   "cell_type": "markdown",
   "id": "292be4d4",
   "metadata": {},
   "source": [
    "# Adsorbase 🧪🌍"
   ]
  },
  {
   "cell_type": "markdown",
   "id": "983957aa",
   "metadata": {},
   "source": [
    "## 🎯 Introduction\n",
    "<div style=\"text-align: justify;margin-right:50px\"> \n",
    "As of today, global warming remains the biggest challenge for the human race. There are, however, multiple ways of tackling the problem and one of those potential solutions is explored at EPFL by a team of dedicated students. Their method relies on capturing CO<sub>2</sub> directly from the atmosphere by the means of adsorbents. Adsorbent materials offer a useful property of accumulating a substance without causing any critical changes to either the adsorbent or the substance being adsorbed. The quality and the efficiency of the adsorbent is heavily reliant on a multitude of characteristics such as the pore volume which corresponds to the volume of the void spaces in the adsorbent or the BET surface area which is the total surface area available for adsorption per unit mass of material. The problem lies in the fact that one would have to not only read through thousands of papers when searching for the adsorbent but would also need to keep track of all of the work. That's when our project comes into play. \n",
    "The objective of this project was to offer a much easier way to visualize various existing adsorbents, compare them and potentially even find the ones that are suitable for specific conditions. \n",
    "</div>"
   ]
  },
  {
   "cell_type": "markdown",
   "id": "f063e395",
   "metadata": {},
   "source": [
    "## 💡 The project\n",
    "\n",
    "<div style=\"text-align: justify;margin-right:50px\"> \n",
    "The idea was to render an interactive graph with several functionalities to help in finding precise data and therefore the perfect adsorbent. \n",
    "<br><br>\n",
    "The project works based on a python framework named Dash, which creates interactive vizualizations. It is combined with other languages and libraries such as Plotly, HTML and CSS to upgrade or style the application :  \n",
    "<ul>\n",
    "    <li>Plotly : Used to create the interactive graph</li>\n",
    "    <li>HTML : Used to display informations on the website</li>\n",
    "    <li>CSS : Used to specify the look of the elements</li>\n",
    "</ul>\n",
    "</div>\n",
    "\n",
    "\n"
   ]
  },
  {
   "cell_type": "markdown",
   "id": "496e1d14",
   "metadata": {},
   "source": [
    "## 💻 How to use it ? \n",
    "\n",
    "### 0. Installing the dependencies\n",
    "<div style=\"text-align: justify ;margin-right:50px\">\n",
    "Before starting the application, as previously mentioned, it relies on several libraries that must be installed. Therefore, it is important to ensure the following dependencies are installed by running the command below: \n",
    "</div>"
   ]
  },
  {
   "cell_type": "code",
   "execution_count": null,
   "id": "f802c18a",
   "metadata": {
    "vscode": {
     "languageId": "plaintext"
    }
   },
   "outputs": [],
   "source": [
    "pip install dash pandas plotly dash_bootstrap_components dash_bootstrap_templates"
   ]
  },
  {
   "cell_type": "markdown",
   "id": "58950cc8",
   "metadata": {},
   "source": [
    "### 1. Running the application\n",
    "\n",
    "<div style=\"text-align: justify;margin-right:50px\">\n",
    "To start the application, the following command can be used. It will write in the Terminal a response with a link, click it with Ctrl + Click and the application will start. \n",
    "</div>"
   ]
  },
  {
   "cell_type": "code",
   "execution_count": null,
   "id": "c74fe196",
   "metadata": {
    "vscode": {
     "languageId": "plaintext"
    }
   },
   "outputs": [],
   "source": [
    "python run.py "
   ]
  },
  {
   "cell_type": "markdown",
   "id": "7e80fcfc",
   "metadata": {},
   "source": [
    "<div style=\"text-align: justify;margin-right:50px\">\n",
    "To stop the app, type in the same terminal CTRL+C. Once done, the application will stop running."
   ]
  },
  {
   "cell_type": "markdown",
   "id": "282cb0a6",
   "metadata": {},
   "source": [
    "### 2. Explaning the graph\n",
    "\n",
    "<div style=\"text-align: justify;margin-right:50px\">\n",
    "??\n",
    "</div>"
   ]
  },
  {
   "cell_type": "markdown",
   "id": "a25d67f8",
   "metadata": {},
   "source": [
    "### 3. Modifying the graph\n",
    "\n",
    "<div style=\"text-align: justify;margin-right:50px\">\n",
    "??\n",
    "</div>"
   ]
  },
  {
   "cell_type": "markdown",
   "id": "91499b8f",
   "metadata": {},
   "source": [
    "### 4. Extending the data\n",
    "\n",
    "<div style=\"text-align: justify;margin-right:50px\">\n",
    "??\n",
    "</div>"
   ]
  },
  {
   "cell_type": "markdown",
   "id": "7c4b76e1",
   "metadata": {},
   "source": [
    "### 5. Exporting the data\n",
    "\n",
    "<div style=\"text-align: justify;margin-right:50px\">\n",
    "??\n",
    "</div>"
   ]
  },
  {
   "cell_type": "markdown",
   "id": "a87d1992",
   "metadata": {},
   "source": [
    "### 6. Importing the data \n",
    "\n",
    "<div style=\"text-align: justify;margin-right:50px\">\n",
    "??\n",
    "</div>"
   ]
  },
  {
   "cell_type": "markdown",
   "id": "71af3c08",
   "metadata": {},
   "source": [
    "## 😮‍💨 Difficulties\n",
    "\n",
    "<div style=\"text-align: justify;margin-right:50px\">\n",
    "The first difficulty was related to finding the adsorbents. No already done Dataframe was found with interesting caracteristics for the project. The csv was therefore done by hand, taking the results from a publication named <em>Industrial & Engineering Chemistry Research</em> [1]. \n",
    "<br><br>\n",
    "The second difficulty was to learn how to work with those different types of languages. Indeed, to create a interactive and cool website, the plotly library has been red again and again to adjust the details and to familirize with this type of work. Some part as the Callbacks were completely new and therefore takes a long time before using it correctly. \n",
    "<br><br>\n",
    "Another difficulty was to set the Dark Mode. The style of the div was initially hard coded before the discovery for Dash Bootstrap Components. It was therefore changed in the code which was actually more complicated than expected (you can ask arsenijs). \n",
    "<br><br>\n",
    "As the project was at first done on one huge python document, the separation was more complicated than expected due to the circular import.\n",
    "<br><br>\n",
    "Once adding the Bootstrap library, the function to count the number of points on the graph was not working. It takes a long time and a lot of dictionnary and list knowlegdes to make it works again. \n",
    "</div>"
   ]
  },
  {
   "cell_type": "markdown",
   "id": "f5c22636",
   "metadata": {},
   "source": [
    "## ⚙️ Limitations\n",
    "\n",
    "<div style=\"text-align: justify;margin-right:50px\">\n",
    "As the adsorbents are used in many fields, a lot of data can not be found in the internet. Therefore, the csv file must not be complete for precise research or for selective work. \n",
    "</div>"
   ]
  },
  {
   "cell_type": "markdown",
   "id": "0a8a912a",
   "metadata": {},
   "source": [
    "## 📔 References\n",
    "\n",
    "<div style=\"text-align: justify;margin-right:50px\">\n",
    "<ol>\n",
    "<li>Ye, Wenxing, Weihai Liang, Qingyuan Luo, Xiaoru Liang, et Chao Chen. « Recent Progress in CO2 Capture by Porous Solid Materials ». Industrial & Engineering Chemistry Research 64, nᵒ 8 (26 february 2025): 4148‑78. https://doi.org/10.1021/acs.iecr.4c04027.</li>\n",
    "</ol>\n",
    "</div>\n"
   ]
  }
 ],
 "metadata": {
  "kernelspec": {
   "display_name": "base",
   "language": "python",
   "name": "python3"
  },
  "language_info": {
   "codemirror_mode": {
    "name": "ipython",
    "version": 3
   },
   "file_extension": ".py",
   "mimetype": "text/x-python",
   "name": "python",
   "nbconvert_exporter": "python",
   "pygments_lexer": "ipython3",
   "version": "3.12.7"
  }
 },
 "nbformat": 4,
 "nbformat_minor": 5
}
