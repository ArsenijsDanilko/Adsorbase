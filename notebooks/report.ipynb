{
 "cells": [
  {
   "cell_type": "markdown",
   "id": "292be4d4",
   "metadata": {},
   "source": [
    "# Adsorbase 🧪🌍"
   ]
  },
  {
   "cell_type": "markdown",
   "id": "983957aa",
   "metadata": {},
   "source": [
    "## 🎯 Introduction\n",
    "<div style=\"text-align: justify; max-width: 90%\"> \n",
    "As of today, global warming remains the biggest challenge for the human race. There are, however, multiple ways of tackling the problem and one of those potential solutions is explored at EPFL by a team of dedicated students. Their method relies on capturing CO<sub>2</sub> directly from the atmosphere by the means of adsorbents. Adsorbent materials offer a useful property of accumulating a substance without causing any critical changes to either the adsorbent or the substance being adsorbed. The quality and the efficiency of the adsorbent is heavily reliant on a multitude of characteristics such as the pore volume which corresponds to the volume of the void spaces in the adsorbent or the BET surface area which is the total surface area available for adsorption per unit mass of material. The problem lies in the fact that one would have to not only read through thousands of papers when searching for the adsorbent but would also need to keep track of all of the work. That's when our project comes into play. \n",
    "The objective of this project was to offer a much easier way to visualize various existing adsorbents, compare them and potentially even find the ones that are suitable for specific conditions. \n",
    "</div><br><br>"
   ]
  },
  {
   "cell_type": "markdown",
   "id": "f063e395",
   "metadata": {},
   "source": [
    "## 💡 The project\n",
    "\n",
    "<div style=\"text-align: justify; max-width: 90%\"> \n",
    "The idea was to render an interactive graph with several functionalities to help in finding precise data and therefore the perfect adsorbent for any specific use case. \n",
    "<br><br>\n",
    "The project works based on a python and javascript framework named Dash, which creates interactive vizualizations and allows frontend development. It is combined with other languages and libraries such as Plotly, HTML and CSS to upgrade or style the application :  \n",
    "<ul>\n",
    "    <li>Plotly : Used to create the interactive graph</li>\n",
    "    <li>HTML : Used to display informations on the website</li>\n",
    "    <li>CSS : Used to specify the look of the elements</li>\n",
    "</ul>\n",
    "</div><br>"
   ]
  },
  {
   "cell_type": "markdown",
   "id": "32841c24",
   "metadata": {},
   "source": [
    "## 💻 The overall outlook of the functionality of the site  \n",
    "\n",
    "### 0. The Great Setup\n",
    "<div style=\"max-width: 90%\">\n",
    "Before discussing the functionality of the website in detail, we have to install both adsorbase and its dependencies (pandas and dash, as well as dash_bootstrap_templates and dash_bootstrap_components). Installing adsorbase should automatically handle the dependencies.\n",
    "</div>"
   ]
  },
  {
   "cell_type": "code",
   "execution_count": null,
   "id": "f802c18a",
   "metadata": {
    "vscode": {
     "languageId": "shellscript"
    }
   },
   "outputs": [],
   "source": [
    "pip install adsorbase"
   ]
  },
  {
   "cell_type": "markdown",
   "id": "9be6b55c",
   "metadata": {},
   "source": [
    "<div>\n",
    "After that's done, it is necessary to make the following imports.\n",
    "</div>"
   ]
  },
  {
   "cell_type": "code",
   "execution_count": 2,
   "id": "d4c5da6c",
   "metadata": {},
   "outputs": [],
   "source": [
    "from adsorbase import launch"
   ]
  },
  {
   "cell_type": "markdown",
   "id": "58950cc8",
   "metadata": {},
   "source": [
    "### 1. Running the application\n",
    "\n",
    "To start the application, just call the `launch()` function and open the output url (usually http://127.0.0.1:9050/) in your favourite browser."
   ]
  },
  {
   "cell_type": "code",
   "execution_count": null,
   "id": "dc243d64",
   "metadata": {},
   "outputs": [],
   "source": [
    "launch()"
   ]
  },
  {
   "cell_type": "markdown",
   "id": "7e80fcfc",
   "metadata": {},
   "source": [
    "To stop the app, type ctrl+C in the same terminal."
   ]
  },
  {
   "cell_type": "markdown",
   "id": "282cb0a6",
   "metadata": {},
   "source": [
    "### 2. Different elements of the graph\n",
    "\n",
    "<div style=\"text-align: justify; max-width: 90%\">\n",
    "The main component of the whole site is by far the graph. The graph allows you to compare various adsorbents present in the database included in the package. As shown on the figure below, the graph is a scatter plot where each point represents one adsorbent and its properties. Hovering your cursor over a point makes a tooltip pop up, which contains the name and type of adsorbent on the first two lines, as well as some additional information about the selected adsorbent below. The latter can be enabled (or disabled) using the dropdown menu right above the figure. This interactive graph allows the user to zoom into any region, as well as to select the wanted type of adsorbent by clicking the legends on the right. The number of points displayed on the graph at any given time is dynamically displayed below the figure. It is important to note that points with missing data for either the x- or y-axis are not displayed (Pore volume or BET Surface Area in this case).\n",
    "\n",
    "</div>\n",
    "\n",
    "<img src=\"images/Graph.jpg\" alt=\"Graph\" style=\"max-width: 90%; margin-top: 20px;\" />"
   ]
  },
  {
   "cell_type": "markdown",
   "id": "a25d67f8",
   "metadata": {},
   "source": [
    "### 3. Modifying the graph\n",
    "\n",
    "#### 3.1 Selecting the axes\n",
    "\n",
    "<div style=\"text-align: justify; max-width: 90%\">\n",
    "The graph can be modified in multiple ways. First, the user gets to select the axes of the graph through a dropdown (see below). As of right now, there are 3 options: pore volume, BET surface area and adsorption capacity. It is important to note that not all parameters are present in the database for certain adsorbents. \n",
    "</div>\n",
    "<img src=\"images/choiceaxes.jpg\" alt=\"Graph\" style=\"max-width: 90%; margin-top: 20px;\" />\n",
    "<div></div>\n",
    "<div style=\"text-align: justify; max-width: 90%\">\n",
    "Once the user selects the x and y axes, the title of the graph as well as the graph itself will change. It is possible to have the same x and y axes. This was left on purpose so that the user can see which adsorbents excel in what parameters. The principal hover data will change accordingly. In the example below, we can clearly see that <em>Zeolite-13X K</em> excels when it comes to adsorption capacity. Another important thing to note is that the total points visible on the graph change with axes since not all data exists for certain adsorbents.\n",
    "</div>\n",
    "<img src=\"images/changedaxesgraph.jpg\" alt=\"Graph\" style=\"max-width: 90%; margin-top: 20px;\" />"
   ]
  },
  {
   "cell_type": "markdown",
   "id": "36eef003",
   "metadata": {},
   "source": [
    "#### 3.2 Selecting appropriate conditions using filters"
   ]
  },
  {
   "cell_type": "markdown",
   "id": "60aecf1c",
   "metadata": {},
   "source": [
    "<div style=\"text-align: justify; max-width: 90%\">\n",
    "The second functionality offered by Adsorbase is the ability to change filters. By filters we are referring to the temperature and pressure conditions at which the measurements were taken for different adsorbents. This utility was integrated so researchers can introduce constraints of their own. This option gets rid of all the adsorbents that were tested outside the range set by the user and only leaves those that satisfy the imposed conditions. \n",
    "</div>\n",
    "<img src=\"images/filters.jpg\" alt=\"Graph\" style=\"max-width: 90%; margin-top: 20px;\" />\n",
    "<div></div>\n",
    "<div style=\"text-align: justify; max-width: 90%\">\n",
    "Once the filters have been set, only the points that satisfy conditions will remain and the number of selected points will be updated. The proportions of the graph will update to fit all points. On the graph below, the temperature filter was set between 283 K and 300 K while the pressure filters were between 0.8 bar and 5.4 bar. As you can see, the graph adjusts to the new filters and the number of selected points changes. \n",
    "</div>\n",
    "<img src=\"images/chnagedfilters.jpg\" alt=\"Graph\" style=\"max-width: 90%; margin-top: 20px;\" />"
   ]
  },
  {
   "cell_type": "markdown",
   "id": "84498590",
   "metadata": {},
   "source": [
    "#### 3.3 Selecting hover data "
   ]
  },
  {
   "cell_type": "markdown",
   "id": "168c7c0e",
   "metadata": {},
   "source": [
    "<div style=\"text-align: justify; max-width: 90%\">\n",
    "Lastly, our tool offers the ability to select the hover data that is available by means of a dropdown menu (the x and y axes data is set by default). Initially, the hover data shows only the main data to prevent the graph from being over-saturated with information. But, if the user would like to see additional information when hovering over a certain point, it can be easily selected as shown below.\n",
    "</div>\n",
    "<img src=\"images/hoverdata.jpg\" alt=\"Graph\" style=\"max-width: 90%; margin-top: 20px;\" />\n",
    "<div></div>\n",
    "<div style=\"text-align: justify; max-width: 90%\">\n",
    "Here, we selected pore volume and temperature conditions to show when hovering over a point. The graph will then take notice of this change. \n",
    "</div>\n",
    "<img src=\"images/hoverdatagraph.jpg\" alt=\"Graph\" style=\"max-width: 90%; margin-top: 20px;\" />"
   ]
  },
  {
   "cell_type": "markdown",
   "id": "91499b8f",
   "metadata": {},
   "source": [
    "### 4. Extending the data\n",
    "\n",
    "<div style=\"text-align: justify; max-width: 90%\">\n",
    "Another interesting feature of Adsorbase is the ability of adding your very own data. This was integrated to see how your custom adsorbent performs against other existing adsorbents in various categories. You can add your adsorbent using inputs below the graph. The button \"Add\" adds your adsorbent to a new csv file while the button \"Actualize Graph\" plots your point on the graph. All the other features remain the same (you can still choose hover data, axes...).\n",
    "</div>\n",
    "<img src=\"images/extendingdata.jpg\" alt=\"Graph\" style=\"max-width: 90%; margin-top: 20px;\" />\n",
    "<div></div>\n",
    "<div style=\"text-align: justify; max-width: 90%\">\n",
    "Before adding your adsorbent, please familiarise yourself with the units and if needed make the appropriate conversions. Once that's been checked, you can add your adsorbents. A green text will then pop up telling you that it has successfully been added and then you can actualize the graph. You will then see your newly added points appear on the plot. \n",
    "</div>\n",
    "<img src=\"images/graphwithpoint.jpg\" alt=\"Graph\" style=\"max-width: 90%; margin-top: 20px;\" />"
   ]
  },
  {
   "cell_type": "markdown",
   "id": "7c4b76e1",
   "metadata": {},
   "source": [
    "### 5. Filtered Adsorbents Table\n",
    "\n",
    "<div style=\"text-align: justify; max-width: 90%\">\n",
    "At the bottom of the page, you'll find a table containing all the adsorbents, including the ones you've added. This feature was added to have a complementary look on the data to the interactive graph. Note that only the adsorbents that are currently displayed on the graph are shown in the table. To see all the adsorbents, set the filters and zoom level to their initial positions. You can copy the name (or any other characteristic) of an adsorbent by clicking on any cell of the table and hitting your keybind for \"copy\". \n",
    "</div>\n",
    "<img src=\"images/table.jpg\" alt=\"Table\" style=\"max-width: 90%; margin-top: 20px;\" />\n",
    "\n",
    "### 5.1 Exporting the data \n",
    "\n",
    "<div style=\"text-align: justify;max-width: 90%\">\n",
    "Just below the graph, you'll find a button \"Export Filtered Data\" which, once clicked, exports a csv file directly to your device. This feature was added so that one can exploit the data as one desires. Once the export has been completed, you'll be able to manipulate the data as one can do with any csv type file. \n",
    "</div>\n",
    "<img src=\"images/exporteddata.jpg\" alt=\"Table\" style=\"max-width: 90%; margin-top: 20px;\" />"
   ]
  },
  {
   "cell_type": "markdown",
   "id": "a87d1992",
   "metadata": {},
   "source": [
    "### 6. Additional features \n",
    "\n",
    "<div style=\"text-align: justify; max-width:90%\">\n",
    "As an additional feature, the user can select between the light mode and dark mode. The button is visible in the top right corner of the page. This function serves no utility but was added strictly for design purposes. The button itself is a toggle. In reality, instead of switching between 'light-mode' and 'dark-mode', the user is switching between two themes proposed by dash_bootstrap with a couple of css tweaks. The dark mode only changes the style and doesn't have an effect on the other functionalities. \n",
    "</div>\n",
    "<img src=\"images/darkmode.jpg\" alt=\"Table\" style=\"max-width: 100%; margin-top: 10px;\" />\n",
    "<br>"
   ]
  },
  {
   "cell_type": "markdown",
   "id": "496e1d14",
   "metadata": {},
   "source": [
    "## ⚙️ How does the site work ?\n",
    "\n",
    "### 1. Interface of the application  \n",
    "<div style=\"text-align: justify; max-width:90%\">\n",
    "Since the application is a web app hosted on a server, the use of HTLM and CSS was needed. Each element displayed in the app is a <code>html.Div()</code> that is styled with some basic CSS properties such as <code>'margin'</code> or <code>'width'</code>. The layout of the application was fully defined in the <code>layout.py</code>. Each Div with an interactive function was defined with a Dash object (either <code>dash_core_components</code> or <code>dash_bootstrap_components</code>) associated with an ID and a \"callback\" function to link it with the rest of the app. The difference between dcc and dbc is mainly the way that predefined styles can be implemented. \n",
    "</div>\n",
    "<br><br>"
   ]
  },
  {
   "cell_type": "markdown",
   "id": "45be5db4",
   "metadata": {},
   "source": [
    "### 2. Callback functions \n",
    "\n",
    "<div style=\"text-align: justify; max-width:90%\">\n",
    "Special functions called \"callbacks\" are a core mechanism of Dash apps. Callbacks enable interactivity within the application, meaning they listen to the user's actions by the user and give an output as a function of the inputs. For example, let's say the user selects a new x-axis for the plot. This causes the evaluation of the x-axis callback, which returns a new output. In turn, this automatically triggers the reevaluation of the plotting callback, which takes the output of the x-axis callback as input (among other things). Our app runs on a web of interconnected callbacks, which make our app so easy to interact with. To link a callback to another one, the use of individual IDs for each interactive element on the page was necessary. Indeed, each dynamic element is associated with a callback that takes some other callbacks' returns as inputs, identified by their ID, and outputs some information. Additionally, each callback, on top of having an ID, has different properties, such as <code>'value'</code>, <code>'data'</code>, <code>'children'</code> or <code>'n-clicks'</code>. The property of interest is chosen according to the element of the class that it modifies. For example, if the function is triggered by the click of a button, the <code>'n_clicks'</code> property of the button's callback's output will be taken as an argument.\n",
    "\n",
    "The last important class in the callbacks is <code>State()</code>. They take the value as the argument of the function, but, unlike the input class, it does not immediately trigger subsequent callbacks. State classes were used to extend the database, as they can be modified but the output only gets triggered once the button gets clicked.\n",
    "<br><br>\n",
    "As you can imagine, every element is linked to many others, creating a deeply interconnected network. A simple user action usually results in a chain of several automatic re-evaluations of callbacks. The whole system can be summarised by the following image provided by Dash bootstrap. \n",
    "</div>\n",
    "\n",
    "<img src=\"images/Callbacks_network.jpg\" alt=\"Callbacks networks\" style=\"max-width: 90%; margin-top: 20px;\"/>\n",
    "<br>"
   ]
  },
  {
   "cell_type": "markdown",
   "id": "9f44eb6d",
   "metadata": {},
   "source": [
    "### 3. Structure of the package\n",
    "\n",
    "<div style=\"text-align: justify; max-width:90%\">\n",
    "The entry point of the package is the <code>run.py</code> file. The master <code>launch()</code> function is defined and called through here. It triggers the initialization of the Dash app. Then, the layout of the page is imported from the <code>layout.py</code> file, which contains every HTML div and Dash component displayed on the app. These interact to the file containing all the callback function definitions. In the latter, wrapping every definition inside a big function seems unnecessary, but it actually is the only elegant solution we could find to solve a common problem in Dash applications: circular import errors. In our project, calling <code>launch()</code> makes <code>app.py</code> run, which creates the <code>app</code> object. Then, the callbacks defined in <code>callbacks.py</code> need to be ran to ensure the functionaliy of the app. However, the callbacks require the existence of the app to be defined through the Dash macro <code>@app.callback()</code>, even though they are imported to <code>app.py</code> <em>before</em> the app is initialised. This leads to a <code>ModuleNotFoundError</code>. The solution to this was to define the callbacks <em>after</em> the app is initialized, which was done by wrapping their definitions in a function that would only be called after the initialization. A similar problem was met in the layout, as the colour scheme of the divs is \n",
    "\n",
    "Another file called <code>utils.py</code> contains general functions mostly related to reading the csv database, defining some constants used in the rest of the web app (such as allowed axis names, hover options, etc). They were separated from the rest as to not litter unrelated files with function definitions. \n",
    "</div>"
   ]
  },
  {
   "cell_type": "markdown",
   "id": "71af3c08",
   "metadata": {},
   "source": [
    "## 😮‍💨 Difficulties\n",
    "\n",
    "<div style=\"text-align: justify; max-width: 90%\">\n",
    "The first (and perhaps most important) difficulty was related to finding the adsorbents. Unfortunately, no machine-readable database with interesting caracteristics for the project could be found. The csv file containing the data was therefore done by hand, taking the results from a publication named <em>Recent Progress in CO2 Capture by Porous Solid Materials</em> [1] by C. Chen et al. This severely limited the amount of data present in the database.\n",
    "\n",
    "The second difficulty was learning how to work with the libraries involved (mostly Dash), which involved using other languages such as CSS and HTML for the styling of the web app, as well as learning completely new control structures like callbacks.\n",
    "\n",
    "Structuring the project also took a bit of quite a bit of thinking and tinkering, as many attempts were shut down by circular import errors. One culprit in particular was the callback system: each callback requires the existence of the app, but the app also needs the callbacks to exist, leading to a circular import error. This kind of problem was solved by wrapping the callback definitions in one gigantic function (<code>register_callbacks(app: Dash)</code>) that would only be called <em>after</em> app initialization. A similar issue was encountered in the layout module, which required to know which theme was active before the app was even created.\n",
    "\n",
    "Another difficulty was implementing the dark mode. The style of every div was initially hard coded before the discovery of Dash Bootstrap Components. It was therefore changed in the code, which actually turned out to be more complicated than expected (you can ask Arsenijs).\n",
    "\n",
    "Implementing the dynamic point counter callback and data table also took ages, as it needed to work with the actual plotly figure as input to account for zooming etc., not just the dataframe containing all the data. As it turns out, that is a monstruosity composed of dicts and lists nested several layers deep, with varying data types in every single dict, and useful information buried amidst junk. This meant that finding and filtering the coordinates of each point was tricky, before even implementing the checking and counting logic. \n",
    "</div>\n",
    "<br>"
   ]
  },
  {
   "cell_type": "markdown",
   "id": "f5c22636",
   "metadata": {},
   "source": [
    "## 🛑 Limitations\n",
    "\n",
    "<div style=\"text-align: justify; max-width: 90%\">\n",
    "The data regarding the adsorbents provided was based mostly on only one paper so researchers cannot use Adsorbase as the definitive tool in their adsorbent research. Another limitation in the csv file is the limited amount of possible axes choices (only three available). Additionally, we could add parameters such as the N2/CO2 selectivity for materials that have this parameter. \n",
    "</div>\n",
    "<br>"
   ]
  },
  {
   "cell_type": "markdown",
   "id": "f642b376",
   "metadata": {},
   "source": [
    "## ❔ Where do we go from here ? \n",
    "\n",
    "<div style=\"text-align: justify; max-width: 90%\">\n",
    "This project is still in its early stages but can already serve a great purpose when it comes to researching adsorbents. From here, we can combine this project with other more calculatory ones. For example, one other group focuses on modelling adsorption isotherms. Combining both projects could be a big step up since it adds even more utility to both projects. </div>\n",
    "<br><br>\n",
    "<div style=\"text-align: justify; max-width: 90%\">\n",
    "Another way to improve the project could be to add some Javascript code to it, since plotly is moslty based on javascript. This would allow us to dig deeper into the interactivity of the graph. \n",
    "</div>\n",
    "<br>"
   ]
  },
  {
   "cell_type": "markdown",
   "id": "0a8a912a",
   "metadata": {},
   "source": [
    "## 📔 References\n",
    "\n",
    "<div style=\"text-align: justify;margin-right:50px\">\n",
    "<ol>\n",
    "<li>Ye, Wenxing, Weihai Liang, Qingyuan Luo, Xiaoru Liang, et Chao Chen. « Recent Progress in CO2 Capture by Porous Solid Materials ». Industrial & Engineering Chemistry Research 64, nᵒ 8 (26 february 2025): 4148‑78. https://doi.org/10.1021/acs.iecr.4c04027.</li>\n",
    "</ol>\n",
    "</div>\n"
   ]
  }
 ],
 "metadata": {
  "kernelspec": {
   "display_name": "adsorbase",
   "language": "python",
   "name": "python3"
  },
  "language_info": {
   "codemirror_mode": {
    "name": "ipython",
    "version": 3
   },
   "file_extension": ".py",
   "mimetype": "text/x-python",
   "name": "python",
   "nbconvert_exporter": "python",
   "pygments_lexer": "ipython3",
   "version": "3.13.2"
  }
 },
 "nbformat": 4,
 "nbformat_minor": 5
}
