{
 "cells": [
  {
   "cell_type": "markdown",
   "id": "292be4d4",
   "metadata": {},
   "source": [
    "# Adsorbase 🧪🌍"
   ]
  },
  {
   "cell_type": "markdown",
   "id": "983957aa",
   "metadata": {},
   "source": [
    "## 🎯 Introduction\n",
    "<div style=\"text-align: justify;margin-right:50px\"> \n",
    "As of today, global warming remains the biggest challenge for the human race. There are, however, multiple ways of tackling the problem and one of those potential solutions is explored at EPFL by a team of dedicated students. Their method relies on capturing CO<sub>2</sub> directly from the atmosphere by the means of adsorbents. Adsorbent materials offer a useful property of accumulating a substance without causing any critical changes to either the adsorbent or the substance being adsorbed. The quality and the efficiency of the adsorbent is heavily reliant on a multitude of characteristics such as the pore volume which corresponds to the volume of the void spaces in the adsorbent or the BET surface area which is the total surface area available for adsorption per unit mass of material. The problem lies in the fact that one would have to not only read through thousands of papers when searching for the adsorbent but would also need to keep track of all of the work. That's when our project comes into play. \n",
    "The objective of this project was to offer a much easier way to visualize various existing adsorbents, compare them and potentially even find the ones that are suitable for specific conditions. \n",
    "</div>"
   ]
  },
  {
   "cell_type": "markdown",
   "id": "f063e395",
   "metadata": {},
   "source": [
    "## 💡 The project\n",
    "\n",
    "<div style=\"text-align: justify;margin-right:50px\"> \n",
    "The idea was to render an interactive graph with several functionalities to help in finding precise data and therefore the perfect adsorbent. \n",
    "<br><br>\n",
    "The project works based on a python framework named Dash, which creates interactive vizualizations. It is combined with other languages and libraries such as Plotly, HTML and CSS to upgrade or style the application :  \n",
    "<ul>\n",
    "    <li>Plotly : Used to create the interactive graph</li>\n",
    "    <li>HTML : Used to display informations on the website</li>\n",
    "    <li>CSS : Used to specify the look of the elements</li>\n",
    "</ul>\n",
    "</div>\n",
    "\n",
    "\n"
   ]
  },
  {
   "cell_type": "markdown",
   "id": "32841c24",
   "metadata": {},
   "source": [
    "## 💻 The overall outlook of the functionality of the site  \n",
    "\n",
    "### 0. The Great Setup\n",
    "<div style=\"text-align: justify ;margin-right:50px\">\n",
    "Before discussing the functionality of the website in detail, we have to install both adsorbase and its dependencies (pandas and dash, as well as dash_bootstrap_templates and dash_bootstrap_components). Installing adsorbase should automatically handle the dependencies."
   ]
  },
  {
   "cell_type": "code",
   "execution_count": null,
   "id": "f802c18a",
   "metadata": {
    "vscode": {
     "languageId": "shellscript"
    }
   },
   "outputs": [],
   "source": [
    "pip install adsorbase"
   ]
  },
  {
   "cell_type": "markdown",
   "id": "9be6b55c",
   "metadata": {},
   "source": [
    "<div>\n",
    "After that's done, it is necessary to make the following imports.\n",
    "</div>"
   ]
  },
  {
   "cell_type": "code",
   "execution_count": 3,
   "id": "d4c5da6c",
   "metadata": {},
   "outputs": [],
   "source": [
    "from adsorbase import launch"
   ]
  },
  {
   "cell_type": "markdown",
   "id": "58950cc8",
   "metadata": {},
   "source": [
    "### 1. Running the application\n",
    "\n",
    "<div style=\"text-align: justify;margin-right:50px\">\n",
    "To start the application, just call the `launch` function and open the output url in your favourite browser."
   ]
  },
  {
   "cell_type": "code",
   "execution_count": null,
   "id": "dc243d64",
   "metadata": {},
   "outputs": [],
   "source": [
    "launch()"
   ]
  },
  {
   "cell_type": "markdown",
   "id": "7e80fcfc",
   "metadata": {},
   "source": [
    "<div style=\"text-align: justify;margin-right:50px\">\n",
    "To stop the app, type < ctrl+C > in the same terminal. Once done, the application will stop running.\n",
    "</div>"
   ]
  },
  {
   "cell_type": "markdown",
   "id": "282cb0a6",
   "metadata": {},
   "source": [
    "### 2. Explaning the graph\n",
    "\n",
    "<div style=\"text-align: justify; margin-right: 50px;\">\n",
    "The main component of the whole site is by far the graph. The graph allows you to compare various adsorbents present in the csv included in the package. As it can be shown on the following figure, the graph is composed by legends on the top right, by many points represented by symbols according to the type of adsorbents and by an hover box which shows the name, the type and the chosen values of each adsorbent. This interactive graph allows the user to zoom into the point to find the best fitting one, as well as to select the precise type of adsorbent by clicking into the legends. A fonction was added below the graph is dynamically counting the actual number of points on the graph even after any changes on the conditions, being the legends, the zoom, or the sliders, which would be presented a little further into the report. It is important to note that the point with missing data, in this case the BET Surface Area or the Pore volume, are not presented in the graph. \n",
    "</div>\n",
    "\n",
    "<img src=\"images/Graph.jpg\" alt=\"Graph\" style=\"max-width: 100%; margin-top: 10px;\" />"
   ]
  },
  {
   "cell_type": "markdown",
   "id": "a25d67f8",
   "metadata": {},
   "source": [
    "### 3. Modifying the graph\n",
    "\n",
    "#### 3.1 Selecting the axes\n",
    "\n",
    "<div style=\"text-align: justify;margin-right:50px\">\n",
    "The graph can be modified in multiple ways. First the user gets to select the axes of the graph through a dropdown (see below). As of right now, there are 3 options: pore volume, BET surface area and adsorption capacity. It is important to note that not all parameters exist for certain adsorbents. \n",
    "</div>\n",
    "<img src=\"images/choiceaxes.jpg\" alt=\"Graph\" style=\"max-width: 100%; margin-top: 10px;\" />\n",
    "<div></div>\n",
    "<div style=\"text-align: justify;margin-right:50px\">\n",
    "Once the user selcts the x and y axes, the titleof the graph as well as the graph itself will change. It is possible to have the same x and y axes. This was left on purpose so the user can see which adsorbents excel in what parameters. The prinicipal hover data will change accordingly.  In the example below, we can clearly see that Zeolite-13X K excels when it comes to adsorption capacity. Another important thing to note is that the total points visible on the graph change with axes since not all data exists for certain adsrobents.\n",
    "</div>\n",
    "<img src=\"images/changedaxesgraph.jpg\" alt=\"Graph\" style=\"max-width: 100%; margin-top: 10px;\" />"
   ]
  },
  {
   "cell_type": "markdown",
   "id": "36eef003",
   "metadata": {},
   "source": [
    "#### 3.2 Selecting appropriate conditions using filters"
   ]
  },
  {
   "cell_type": "markdown",
   "id": "60aecf1c",
   "metadata": {},
   "source": [
    "<div style=\"text-align: justify;margin-right:50px\">\n",
    "The second functionality offered by Adsorbase is the ability to change filters. By filters we are referring to the temperature and pressure conditions at which the measurements were taken for different adsorbents. This utility was integrated so researchers can introduce constraints of their own. This option gets rid of all the adsorbents that were tested outside the range set by the user and only leaves those that satisfy the imposed conditions. \n",
    "</div>\n",
    "<img src=\"images/filters.jpg\" alt=\"Graph\" style=\"max-width: 100%; margin-top: 10px;\" />\n",
    "<div></div>\n",
    "<div style=\"text-align: justify;margin-right:50px\">\n",
    "Once the filters have been set, only the points that satisfy conditions will remain and the number of selected points will be updated. The proportions of the graph will update to fit all points. On the graph below, the temperature filter was set between 283K and 300K while the pressure filters were between 0.8bar and 5.4bar. As you can see, the graph adjusts to the new filters and the number of selected points changes. \n",
    "</div>\n",
    "<img src=\"images/chnagedfilters.jpg\" alt=\"Graph\" style=\"max-width: 100%; margin-top: 10px;\" />"
   ]
  },
  {
   "cell_type": "markdown",
   "id": "84498590",
   "metadata": {},
   "source": [
    "#### 3.3 Selecting hover data "
   ]
  },
  {
   "cell_type": "markdown",
   "id": "168c7c0e",
   "metadata": {},
   "source": [
    "<div style=\"text-align: justify;margin-right:50px\">\n",
    "Lastly, our tool offers the ability to select the hover data that is available by means of a dropdown menu (the x and y axes data is set by default). Initially, the hover data shows only the main data to prevent the graph from being over-saturated with information. But, if the user would like to see additional information when hovering over a certain point, it can be easily selected as shown below.\n",
    "</div>\n",
    "<img src=\"images/hoverdata.jpg\" alt=\"Graph\" style=\"max-width: 100%; margin-top: 10px;\" />\n",
    "<div></div>\n",
    "<div style=\"text-align: justify;margin-right:50px\">\n",
    "Here, we selected pore volume and temperature conditions to show when hovering over a point. The graph will then take notice of this change. \n",
    "</div>\n",
    "<img src=\"images/hoverdatagraph.jpg\" alt=\"Graph\" style=\"max-width: 100%; margin-top: 10px;\" />"
   ]
  },
  {
   "cell_type": "markdown",
   "id": "91499b8f",
   "metadata": {},
   "source": [
    "### 4. Extending the data\n",
    "\n",
    "<div style=\"text-align: justify;margin-right:50px\">\n",
    "Another interesting feature of Adsorbase is the ability of adding your very own points. This was integrated to see how your custom adsorbent performs against other existing adsorbents in various categories. You can add your adsorbent using inputs below the graph. The button \"Add\" adds your adsorbent to a new csv file while the button \"Actualize Graph\" plots your point on the graph. All the other features remain the same (you can still choose hover data, axes...).\n",
    "</div>\n",
    "<img src=\"images/extendingdata.jpg\" alt=\"Graph\" style=\"max-width: 100%; margin-top: 10px;\" />\n",
    "<div></div>\n",
    "<div style=\"text-align: justify;margin-right:50px\">\n",
    "Before adding your adsorbent, please familiarise yourself with the units and if needed make the appropriate conversions. Once that's been checked, you can add your adsorbents, a green text will then pop up telling you that it has successfully been added and then you can actualize the graph. You will then be able to observe that your new graph contains your point or points. \n",
    "</div>\n",
    "<img src=\"images/graphwithpoint.jpg\" alt=\"Graph\" style=\"max-width: 100%; margin-top: 10px;\" />"
   ]
  },
  {
   "cell_type": "markdown",
   "id": "7c4b76e1",
   "metadata": {},
   "source": [
    "### 5. Filtered Adsorbents Table\n",
    "\n",
    "<div style=\"text-align: justify;margin-right:50px\">\n",
    "At the bottom of the page, you'll find a table containing all the adsorbents, including the ones you've added. This feature was added to have a complementary look on the data to the interactive graph. Note that only the adsorbents that are present on the graph are shown in the table. To see all the adsorbents, set the filters to their initial positions. \n",
    "</div>\n",
    "<img src=\"images/table.jpg\" alt=\"Table\" style=\"max-width: 100%; margin-top: 10px;\" />\n",
    "\n",
    "### 5.1 Exporting the data \n",
    "\n",
    "<div style=\"text-align: justify;margin-right:50px\">\n",
    "Just below the graph, you'll find a button \"Export Filtered Data\" which, once clicked, exports a csv file directly to your device. This feature was added so that one can exploit the data as one desires. Once the export has been completed,you'll be able to manipulate the data as one can do with any csv type file. \n",
    "</div>\n",
    "<img src=\"images/exporteddata.jpg\" alt=\"Table\" style=\"max-width: 100%; margin-top: 10px;\" />"
   ]
  },
  {
   "cell_type": "markdown",
   "id": "a87d1992",
   "metadata": {},
   "source": [
    "### 6. Additional features \n",
    "\n",
    "<div style=\"text-align: justify;margin-right:50px\">\n",
    "As an additional feature, the user can select between the light mode and dark mode. The button is visible in the top right corner of the page. This function serves no utility but was added strictly for design purposes. The button itself is a toggle. In reality, instead of switching between 'light-mode' and 'dark-mode', the useris switching between two themes proposed by bootstrap with a couple of css tweaks. The darkmode only changes the style and doesn't have an effect on the other functionalities. \n",
    "</div>\n",
    "<img src=\"images/darkmode.jpg\" alt=\"Table\" style=\"max-width: 100%; margin-top: 10px;\" />"
   ]
  },
  {
   "cell_type": "markdown",
   "id": "496e1d14",
   "metadata": {},
   "source": [
    "## ⚙️ How does the site work ?\n",
    "\n",
    "### 1. Notion of callbacks \n",
    "<div style=\"text-align: justify ;margin-right:50px\">\n",
    "In Dash, a core mechanism are callbacks. Callbacks enable interactivity within the application, meaning they listen to what's being inputed by the user and give an output as a function of the inputs. For example, a user may have the ability to select a value using a dropdown option which is directly linked to a graph, table or another possible output. Our app runs exactly on these set of callbacks which make our app so easy to interact with. To link a callback to another one, the use of \"id\" were necessery. Indeed, before each function used in the application, the inputs, labeled with respective \"id\"s were used as arguments to the function, while the output, labeled with a different \"id\", was the returned element. Additionally, each callback, on top of having an \"id\", has a appropriate \"type\", such as a \"value\", a \"data\", \"children\" or \"n-clicks\". The type is chosen according to the element of the class that it modify. For example, if the function takes in a click of a button as its argument, the type of the callbacks will be \"n-clicks\". The last important class in the callbacks are the State() ones. As the Input, it takes the value as the argument of the function, but, unlike the input class, it does not immediately trigger a callback. State classes were used to extend the database, as they can be modified but the output only gets triggered once the button gets clicked.\n",
    "<br><br>\n",
    "\n",
    "Our app can be simply summarised by the following image provided by Dash bootstrap. \n",
    "\n",
    "<img src=\"images/Callbacks_network.jpg\" alt=\"Callbacks networks\" style=\"max-width: 100%; margin-top: 10px;\" />\n",
    "</div>\n",
    "\n",
    "### 2. Interface of the application  \n",
    "<div style=\"text-align: justify ;margin-right:50px\">\n",
    "Since the application is hosted on a server, the use of HTLM and CSS was needed. Each section of the application was divided in different \"html.Div()\" and styled with some basics CSS function such as 'margin', 'width' and many more. The shape of the application was fully ordonated in the layout. Dash Core Component (dcc) as well as Dash Bootstrap component (dbc) classes were added into each div to link the callbacks to the main page, connected by the \"id\". The difference between dcc and dbc are mainly the way that it can be represented on predefined style, already implemented in Dash. \n",
    "</div>"
   ]
  },
  {
   "cell_type": "markdown",
   "id": "71af3c08",
   "metadata": {},
   "source": [
    "## 😮‍💨 Difficulties\n",
    "\n",
    "<div style=\"text-align: justify;margin-right:50px\">\n",
    "The first difficulty was related to finding the adsorbents. No already done Dataframe was found with interesting caracteristics for the project. The csv was therefore done by hand, taking the results from a publication named <em>Industrial & Engineering Chemistry Research</em> [1]. \n",
    "<br><br>\n",
    "The second difficulty was to learn how to work with those different types of languages. Indeed, to create a interactive and cool website, the plotly library has been red again and again to adjust the details and to familiarize with this type of work. Some part as the Callbacks were completely new and therefore takes a long time before using it correctly. \n",
    "<br><br>\n",
    "Another difficulty was to set the Dark Mode. The style of the div was initially hard coded before the discovery for Dash Bootstrap Components. It was therefore changed in the code which was actually more complicated than expected (you can ask arsenijs). \n",
    "<br><br>\n",
    "As the project was at first done on one huge python document, the separation was more complicated than expected due to the circular import.\n",
    "<br><br>\n",
    "Once adding the Bootstrap library, the function to count the number of points on the graph was not working. It takes a long time and a lot of dictionnary and list knowlegdes to make it works again. \n",
    "</div>"
   ]
  },
  {
   "cell_type": "markdown",
   "id": "f5c22636",
   "metadata": {},
   "source": [
    "## 🛑 Limitations\n",
    "\n",
    "<div style=\"text-align: justify;margin-right:50px\">\n",
    "The data regarding the adsorbents provided was based mostly on only one paper so researchers cannot use Adsorbase as the definitive tool in their adsorbent research. Another limitation in the csv file is the limited amount of possible axes choices (only three available). Additionally, we could add parameters such as the N2/CO2 selectivity for materials that have this parameter. \n",
    "</div>"
   ]
  },
  {
   "cell_type": "markdown",
   "id": "f642b376",
   "metadata": {},
   "source": [
    "## ❔ Where do we go from here ? \n",
    "\n",
    "<div style=\"text-align: justify;margin-right:50px\">\n",
    "This project is still in its early stages but can already serve a great purpose when it comes to researching adsorbents. From here, we can combine this project with other more calculatory ones. For example, there is another group which focuses on modelling the adsorption isotherms, combining the two projects could be a big step up since it adds even more utility to both projects. \n",
    "</div>\n",
    "<div></div>\n",
    "<div style=\"text-align: justify;margin-right:50px\">\n",
    "Another way to improve the project could be to add some Javascript code to it, since plotly is moslty based on javascript. This would allow us to dig deeper into the visualisation of the graph. \n",
    "</div>"
   ]
  },
  {
   "cell_type": "markdown",
   "id": "0a8a912a",
   "metadata": {},
   "source": [
    "## 📔 References\n",
    "\n",
    "<div style=\"text-align: justify;margin-right:50px\">\n",
    "<ol>\n",
    "<li>Ye, Wenxing, Weihai Liang, Qingyuan Luo, Xiaoru Liang, et Chao Chen. « Recent Progress in CO2 Capture by Porous Solid Materials ». Industrial & Engineering Chemistry Research 64, nᵒ 8 (26 february 2025): 4148‑78. https://doi.org/10.1021/acs.iecr.4c04027.</li>\n",
    "</ol>\n",
    "</div>\n"
   ]
  }
 ],
 "metadata": {
  "kernelspec": {
   "display_name": "adsorbase",
   "language": "python",
   "name": "python3"
  },
  "language_info": {
   "codemirror_mode": {
    "name": "ipython",
    "version": 3
   },
   "file_extension": ".py",
   "mimetype": "text/x-python",
   "name": "python",
   "nbconvert_exporter": "python",
   "pygments_lexer": "ipython3",
   "version": "3.13.2"
  }
 },
 "nbformat": 4,
 "nbformat_minor": 5
}
