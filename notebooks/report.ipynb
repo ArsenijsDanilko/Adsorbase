{
 "cells": [
  {
   "cell_type": "markdown",
   "id": "292be4d4",
   "metadata": {},
   "source": [
    "# Adsorbase 🧪🌍"
   ]
  },
  {
   "cell_type": "markdown",
   "id": "983957aa",
   "metadata": {},
   "source": [
    "## 🎯 Introduction\n",
    "<div style=\"text-align: justify\"> \n",
    "Global warming is the main challenge for humans. Some methods are used to counter the progession of the increasing temperature and one particularly is treated by students, here at EPFL, in the CarbonTeam. The main interest of this association is to capture CO<sub>2</sub> using some adsorbents. Adsorbent materials offer a useful property of accumulating a substance without causing any critical changes to neither the adsorbent nor the substance being adsorbed. One adsorbent can be associated with many caracteristics, such as the type or some values as the Pore volume, which correspond to the total volume of \"holes\" or the BET Surface Area, which correspond to the physical adsorption of gas on the solid. \n",
    "\n",
    "All of these data are reported in a lot of lines in some CSV file and are complicated to extract or vizualise. The objective of this project is therefore to make a graphical representation of the Database to facilitate the search and the representation of different caracteristics. </div>"
   ]
  },
  {
   "cell_type": "markdown",
   "id": "f063e395",
   "metadata": {},
   "source": [
    "## 💡 The project\n",
    "\n",
    "<div style=\"text-align: justify\"> \n",
    "The idea was to render an interactive graph with several functionalities to help in finding precise data and therefore the perfect adsorbent. \n",
    "\n",
    "The project works based on a python framework named Dash, which creates interactive vizualizations. It is combined with other languages and libraries such as Plotly, HTML, CSS and Javascript, to upgrade or style the application :  \n",
    "- Plotly : Used to create the interactive graph\n",
    "- HTML : Used to display informations on the website\n",
    "- CSS : Used to specify the look of the elements\n",
    "- Javascript : Used for certain Dash functionalities not avaible trough its python interface\n",
    "</div>\n",
    "\n",
    "\n"
   ]
  },
  {
   "cell_type": "markdown",
   "id": "496e1d14",
   "metadata": {},
   "source": [
    "## 💻 How to use it ? "
   ]
  },
  {
   "cell_type": "markdown",
   "id": "71af3c08",
   "metadata": {},
   "source": [
    "## 😮‍💨 Difficulties\n"
   ]
  },
  {
   "cell_type": "markdown",
   "id": "f5c22636",
   "metadata": {},
   "source": [
    "## ⚙️ Limitations\n",
    "\n",
    "As the adsorbents are used in many fields, there is a lot of data"
   ]
  }
 ],
 "metadata": {
  "kernelspec": {
   "display_name": "base",
   "language": "python",
   "name": "python3"
  },
  "language_info": {
   "codemirror_mode": {
    "name": "ipython",
    "version": 3
   },
   "file_extension": ".py",
   "mimetype": "text/x-python",
   "name": "python",
   "nbconvert_exporter": "python",
   "pygments_lexer": "ipython3",
   "version": "3.12.7"
  }
 },
 "nbformat": 4,
 "nbformat_minor": 5
}
