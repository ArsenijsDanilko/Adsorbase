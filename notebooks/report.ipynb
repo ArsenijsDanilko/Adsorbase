{
 "cells": [
  {
   "cell_type": "markdown",
   "id": "292be4d4",
   "metadata": {},
   "source": [
    "# Adsorbase 🧪🌍"
   ]
  },
  {
   "cell_type": "markdown",
   "id": "983957aa",
   "metadata": {},
   "source": [
    "## 🎯 Introduction\n",
    "<div style=\"text-align: justify;margin-right:50px\"> \n",
    "As of today, global warming remains the biggest challenge for the human race. There are, however, multiple ways of tackling the problem and one of those potential solutions is explored at EPFL by a team of dedicated students. Their method relies on capturing CO<sub>2</sub> directly from the atmosphere by the means of adsorbents. Adsorbent materials offer a useful property of accumulating a substance without causing any critical changes to either the adsorbent or the substance being adsorbed. The quality and the efficiency of the adsorbent is heavily reliant on a multitude of characteristics such as the pore volume which corresponds to the volume of the void spaces in the adsorbent or the BET surface area which is the total surface area available for adsorption per unit mass of material. The problem lies in the fact that one would have to not only read through thousands of papers when searching for the adsorbent but would also need to keep track of all of the work. That's when our project comes into play. \n",
    "The objective of this project was to offer a much easier way to visualize various existing adsorbents, compare them and potentially even find the ones that are suitable for specific conditions. \n",
    "</div>"
   ]
  },
  {
   "cell_type": "markdown",
   "id": "f063e395",
   "metadata": {},
   "source": [
    "## 💡 The project\n",
    "\n",
    "<div style=\"text-align: justify;margin-right:50px\"> \n",
    "The idea was to render an interactive graph with several functionalities to help in finding precise data and therefore the perfect adsorbent. \n",
    "<br><br>\n",
    "The project works based on a python framework named Dash, which creates interactive vizualizations. It is combined with other languages and libraries such as Plotly, HTML and CSS to upgrade or style the application :  \n",
    "<ul>\n",
    "    <li>Plotly : Used to create the interactive graph</li>\n",
    "    <li>HTML : Used to display informations on the website</li>\n",
    "    <li>CSS : Used to specify the look of the elements</li>\n",
    "</ul>\n",
    "</div>\n",
    "\n",
    "\n"
   ]
  },
  {
   "cell_type": "markdown",
   "id": "496e1d14",
   "metadata": {},
   "source": [
    "## 💻 How to use it ? \n",
    "\n",
    "### 0. Installing the dependencies\n",
    "<div style=\"text-align: justify ;margin-right:50px\">\n",
    "Before starting the application, as previously mentioned, it relies on several libraries that must be installed. Therefore, it is important to ensure the following dependencies are installed by running the command below: \n",
    "</div>"
   ]
  },
  {
   "cell_type": "code",
   "execution_count": null,
   "id": "f802c18a",
   "metadata": {},
   "outputs": [],
   "source": [
    "pip install dash pandas plotly dash_bootstrap_components dash_bootstrap_templates"
   ]
  },
  {
   "cell_type": "markdown",
   "id": "9be6b55c",
   "metadata": {},
   "source": [
    "<div>\n",
    "After that's done, it is necessary to make the following imports.\n",
    "</div>"
   ]
  },
  {
   "cell_type": "code",
   "execution_count": null,
   "id": "d4c5da6c",
   "metadata": {},
   "outputs": [
    {
     "name": "stdout",
     "output_type": "stream",
     "text": [
      "['BET Surface Area [m²/g]', 'Pore volume [cm³/g]', 'Adsorption capacity [mmol/g]', 'Conditions T [K]', 'Conditions P [bar]']\n"
     ]
    }
   ],
   "source": [
    "from dash import Dash, Input, Output, State, html, dcc\n",
    "from dash.exceptions import PreventUpdate\n",
    "import pandas as pd\n",
    "import adsorbase.utils as utils\n",
    "import os\n",
    "import plotly.express as px\n",
    "from dash_bootstrap_templates import ThemeSwitchAIO, load_figure_template\n",
    "csv_file = utils.ROOT_PATH / 'data/adsorbents.csv'\n",
    "df = utils.load_df()\n",
    "custom_path = utils.ROOT_PATH / 'data/custom.csv'\n",
    "data_options = utils.column_titles[2:]"
   ]
  },
  {
   "cell_type": "markdown",
   "id": "58950cc8",
   "metadata": {},
   "source": [
    "### 1. Running the application\n",
    "\n",
    "<div style=\"text-align: justify;margin-right:50px\">\n",
    "To start the application, the following command can be used. It will write in the Terminal a response with a link, click it with Ctrl + Click and the application will start. \n",
    "</div>"
   ]
  },
  {
   "cell_type": "code",
   "execution_count": null,
   "id": "dc243d64",
   "metadata": {
    "vscode": {
     "languageId": "powershell"
    }
   },
   "outputs": [],
   "source": [
    "python run.py"
   ]
  },
  {
   "cell_type": "markdown",
   "id": "7e80fcfc",
   "metadata": {},
   "source": [
    "<div style=\"text-align: justify;margin-right:50px\">\n",
    "To stop the app, type in the same terminal CTRL+C. Once done, the application will stop running.\n",
    "</div>"
   ]
  },
  {
   "cell_type": "markdown",
   "id": "282cb0a6",
   "metadata": {},
   "source": [
    "### 2. Explaning the graph\n",
    "\n",
    "<div style=\"text-align: justify;margin-right:50px\">\n",
    "The main component of the whole site is by far the graph. The graph allows you to compare various adsorbents. \n",
    "</div>"
   ]
  },
  {
   "cell_type": "markdown",
   "id": "a25d67f8",
   "metadata": {},
   "source": [
    "### 3. Modifying the graph\n",
    "\n",
    "<div style=\"text-align: justify;margin-right:50px\">\n",
    "The graph can be modified in multiple ways. First the user gets to select the axes of the graph through a dropdown. As of right now, there are 3 options: pore volume, BET surface area and adsorption capacity. It is important to note that not all parameters exist for ceratin adsorbents. This wasacheived using the following callback.\n",
    "</div>"
   ]
  },
  {
   "cell_type": "code",
   "execution_count": 5,
   "id": "dbe79e2e",
   "metadata": {},
   "outputs": [
    {
     "ename": "NameError",
     "evalue": "name 'app' is not defined",
     "output_type": "error",
     "traceback": [
      "\u001b[0;31m---------------------------------------------------------------------------\u001b[0m",
      "\u001b[0;31mNameError\u001b[0m                                 Traceback (most recent call last)",
      "Cell \u001b[0;32mIn[5], line 2\u001b[0m\n\u001b[1;32m      1\u001b[0m \u001b[38;5;66;03m# Callback to update hover dropdown options\u001b[39;00m\n\u001b[0;32m----> 2\u001b[0m \u001b[38;5;129m@app\u001b[39m\u001b[38;5;241m.\u001b[39mcallback(\n\u001b[1;32m      3\u001b[0m     Output(\u001b[38;5;124m'\u001b[39m\u001b[38;5;124mhover-dropdown\u001b[39m\u001b[38;5;124m'\u001b[39m, \u001b[38;5;124m'\u001b[39m\u001b[38;5;124moptions\u001b[39m\u001b[38;5;124m'\u001b[39m),\n\u001b[1;32m      4\u001b[0m     Input(\u001b[38;5;124m'\u001b[39m\u001b[38;5;124mxaxis-column\u001b[39m\u001b[38;5;124m'\u001b[39m, \u001b[38;5;124m'\u001b[39m\u001b[38;5;124mvalue\u001b[39m\u001b[38;5;124m'\u001b[39m),\n\u001b[1;32m      5\u001b[0m     Input(\u001b[38;5;124m'\u001b[39m\u001b[38;5;124myaxis-column\u001b[39m\u001b[38;5;124m'\u001b[39m, \u001b[38;5;124m'\u001b[39m\u001b[38;5;124mvalue\u001b[39m\u001b[38;5;124m'\u001b[39m)\n\u001b[1;32m      6\u001b[0m )\n\u001b[1;32m      7\u001b[0m \u001b[38;5;28;01mdef\u001b[39;00m\u001b[38;5;250m \u001b[39m\u001b[38;5;21mupdate_hover_dropdown\u001b[39m(x_axis, y_axis):\n\u001b[1;32m      8\u001b[0m     hover_candidates \u001b[38;5;241m=\u001b[39m [\n\u001b[1;32m      9\u001b[0m         col \u001b[38;5;28;01mfor\u001b[39;00m col \u001b[38;5;129;01min\u001b[39;00m data_options \u001b[38;5;28;01mif\u001b[39;00m col \u001b[38;5;129;01mnot\u001b[39;00m \u001b[38;5;129;01min\u001b[39;00m (x_axis, y_axis)]\n\u001b[1;32m     11\u001b[0m     \u001b[38;5;28;01mreturn\u001b[39;00m [{\u001b[38;5;124m'\u001b[39m\u001b[38;5;124mlabel\u001b[39m\u001b[38;5;124m'\u001b[39m: col, \u001b[38;5;124m'\u001b[39m\u001b[38;5;124mvalue\u001b[39m\u001b[38;5;124m'\u001b[39m: col} \u001b[38;5;28;01mfor\u001b[39;00m col \u001b[38;5;129;01min\u001b[39;00m hover_candidates]\n",
      "\u001b[0;31mNameError\u001b[0m: name 'app' is not defined"
     ]
    }
   ],
   "source": [
    "# Callback to update hover dropdown options\n",
    "@app.callback(\n",
    "    Output('hover-dropdown', 'options'),\n",
    "    Input('xaxis-column', 'value'),\n",
    "    Input('yaxis-column', 'value')\n",
    ")\n",
    "def update_hover_dropdown(x_axis, y_axis):\n",
    "    hover_candidates = [\n",
    "        col for col in data_options if col not in (x_axis, y_axis)]\n",
    "\n",
    "    return [{'label': col, 'value': col} for col in hover_candidates]\n",
    "\n",
    "\n",
    "def current_data() -> pd.DataFrame:\n",
    "    if os.path.exists(custom_path):\n",
    "        df = pd.read_csv(custom_path)\n",
    "    else:\n",
    "        df = pd.read_csv(csv_file)\n",
    "    return df"
   ]
  },
  {
   "cell_type": "markdown",
   "id": "abe96421",
   "metadata": {},
   "source": [
    "<div>\n",
    "These lines of code set the dropdown options which are later connected to csv file. This functionalityis later  on connected to the graph by a different callback. \n",
    "</div>"
   ]
  },
  {
   "cell_type": "markdown",
   "id": "91499b8f",
   "metadata": {},
   "source": [
    "### 4. Extending the data\n",
    "\n",
    "<div style=\"text-align: justify;margin-right:50px\">\n",
    "??\n",
    "</div>"
   ]
  },
  {
   "cell_type": "markdown",
   "id": "7c4b76e1",
   "metadata": {},
   "source": [
    "### 5. Exporting the data\n",
    "\n",
    "<div style=\"text-align: justify;margin-right:50px\">\n",
    "??\n",
    "</div>"
   ]
  },
  {
   "cell_type": "markdown",
   "id": "a87d1992",
   "metadata": {},
   "source": [
    "### 6. Importing the data \n",
    "\n",
    "<div style=\"text-align: justify;margin-right:50px\">\n",
    "??\n",
    "</div>"
   ]
  },
  {
   "cell_type": "markdown",
   "id": "71af3c08",
   "metadata": {},
   "source": [
    "## 😮‍💨 Difficulties\n",
    "\n",
    "<div style=\"text-align: justify;margin-right:50px\">\n",
    "The first difficulty was related to finding the adsorbents. No already done Dataframe was found with interesting caracteristics for the project. The csv was therefore done by hand, taking the results from a publication named <em>Industrial & Engineering Chemistry Research</em> [1]. \n",
    "<br><br>\n",
    "The second difficulty was to learn how to work with those different types of languages. Indeed, to create a interactive and cool website, the plotly library has been red again and again to adjust the details and to familirize with this type of work. Some part as the Callbacks were completely new and therefore takes a long time before using it correctly. \n",
    "<br><br>\n",
    "Another difficulty was to set the Dark Mode. The style of the div was initially hard coded before the discovery for Dash Bootstrap Components. It was therefore changed in the code which was actually more complicated than expected (you can ask arsenijs). \n",
    "<br><br>\n",
    "As the project was at first done on one huge python document, the separation was more complicated than expected due to the circular import.\n",
    "<br><br>\n",
    "Once adding the Bootstrap library, the function to count the number of points on the graph was not working. It takes a long time and a lot of dictionnary and list knowlegdes to make it works again. \n",
    "</div>"
   ]
  },
  {
   "cell_type": "markdown",
   "id": "f5c22636",
   "metadata": {},
   "source": [
    "## ⚙️ Limitations\n",
    "\n",
    "<div style=\"text-align: justify;margin-right:50px\">\n",
    "As the adsorbents are used in many fields, a lot of data can not be found in the internet. Therefore, the csv file must not be complete for precise research or for selective work. \n",
    "</div>"
   ]
  },
  {
   "cell_type": "markdown",
   "id": "0a8a912a",
   "metadata": {},
   "source": [
    "## 📔 References\n",
    "\n",
    "<div style=\"text-align: justify;margin-right:50px\">\n",
    "<ol>\n",
    "<li>Ye, Wenxing, Weihai Liang, Qingyuan Luo, Xiaoru Liang, et Chao Chen. « Recent Progress in CO2 Capture by Porous Solid Materials ». Industrial & Engineering Chemistry Research 64, nᵒ 8 (26 february 2025): 4148‑78. https://doi.org/10.1021/acs.iecr.4c04027.</li>\n",
    "</ol>\n",
    "</div>\n"
   ]
  }
 ],
 "metadata": {
  "kernelspec": {
   "display_name": "ppchem",
   "language": "python",
   "name": "python3"
  },
  "language_info": {
   "codemirror_mode": {
    "name": "ipython",
    "version": 3
   },
   "file_extension": ".py",
   "mimetype": "text/x-python",
   "name": "python",
   "nbconvert_exporter": "python",
   "pygments_lexer": "ipython3",
   "version": "3.10.16"
  }
 },
 "nbformat": 4,
 "nbformat_minor": 5
}
