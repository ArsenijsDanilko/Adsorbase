{
 "cells": [
  {
   "cell_type": "markdown",
   "id": "292be4d4",
   "metadata": {},
   "source": [
    "# Adsorbase 🧪🌍"
   ]
  },
  {
   "cell_type": "markdown",
   "id": "983957aa",
   "metadata": {},
   "source": [
    "## 🎯 Introduction\n",
    "<div style=\"text-align: justify;margin-right:50px\"> \n",
    "Global warming is the main challenge for humans. Some methods are used to counter the progession of the increasing temperature and one particularly is treated by students, here at EPFL, in the CarbonTeam. The main interest of this association is to capture CO<sub>2</sub> using some adsorbents. Adsorbent materials offer a useful property of accumulating a substance without causing any critical changes to neither the adsorbent nor the substance being adsorbed. One adsorbent can be associated with many caracteristics, such as the type or some values as the Pore volume, which correspond to the total volume of \"holes\" or the BET Surface Area, which correspond to the physical adsorption of gas on the solid. All of these data are reported in a lot of lines in some CSV file and are complicated to extract or vizualise. \n",
    "The objective of this project is therefore to make a graphical representation of the Database to facilitate the filetering and the representation based on various physical and experimental parameters. \n",
    "</div>"
   ]
  },
  {
   "cell_type": "markdown",
   "id": "f063e395",
   "metadata": {},
   "source": [
    "## 💡 The project\n",
    "\n",
    "<div style=\"text-align: justify;margin-right:50px\"> \n",
    "The idea was to render an interactive graph with several functionalities to help in finding precise data and therefore the perfect adsorbent. \n",
    "<br><br>\n",
    "The project works based on a python framework named Dash, which creates interactive vizualizations. It is combined with other languages and libraries such as Plotly, HTML, CSS and Javascript, to upgrade or style the application :  \n",
    "<ul>\n",
    "    <li>Plotly : Used to create the interactive graph</li>\n",
    "    <li>HTML : Used to display informations on the website</li>\n",
    "    <li>CSS : Used to specify the look of the elements</li>\n",
    "    <li>Javascript : Used for certain Dash functionalities not avaible trough its python interface</li>\n",
    "</ul>\n",
    "</div>\n",
    "\n",
    "\n"
   ]
  },
  {
   "cell_type": "markdown",
   "id": "496e1d14",
   "metadata": {},
   "source": [
    "## 💻 How to use it ? \n",
    "\n",
    "### 0. Installing the dependencies\n",
    "<div style=\"text-align: justify ;margin-right:50px\">\n",
    "Before starting the application, as previously mentioned, it relies on several libraries that must be installed. Therefore, it is important to ensure the following dependencies are installed by running the command below: \n",
    "</div>"
   ]
  },
  {
   "cell_type": "code",
   "execution_count": null,
   "id": "f802c18a",
   "metadata": {
    "vscode": {
     "languageId": "plaintext"
    }
   },
   "outputs": [],
   "source": [
    "pip install dash pandas plotly "
   ]
  },
  {
   "cell_type": "markdown",
   "id": "58950cc8",
   "metadata": {},
   "source": [
    "### 1. Running the application\n",
    "\n",
    "<div style=\"text-align: justify;margin-right:50px\">\n",
    "To start the application, the following command can be used. It will write in the Terminal a response with a link, click it with Ctrl + Click and the application will start. \n",
    "</div>"
   ]
  },
  {
   "cell_type": "code",
   "execution_count": null,
   "id": "c74fe196",
   "metadata": {
    "vscode": {
     "languageId": "plaintext"
    }
   },
   "outputs": [],
   "source": [
    "python run.py "
   ]
  },
  {
   "cell_type": "markdown",
   "id": "282cb0a6",
   "metadata": {},
   "source": [
    "### 2. Explaning the graph\n",
    "\n",
    "<div style=\"text-align: justify;margin-right:50px\">\n",
    "??\n",
    "</div>"
   ]
  },
  {
   "cell_type": "markdown",
   "id": "a25d67f8",
   "metadata": {},
   "source": [
    "### 3. Modifying the graph\n",
    "\n",
    "<div style=\"text-align: justify;margin-right:50px\">\n",
    "??\n",
    "</div>"
   ]
  },
  {
   "cell_type": "markdown",
   "id": "91499b8f",
   "metadata": {},
   "source": [
    "### 4. Extending the data\n",
    "\n",
    "<div style=\"text-align: justify;margin-right:50px\">\n",
    "??\n",
    "</div>"
   ]
  },
  {
   "cell_type": "markdown",
   "id": "7c4b76e1",
   "metadata": {},
   "source": [
    "### 5. Exporting the data\n",
    "\n",
    "<div style=\"text-align: justify;margin-right:50px\">\n",
    "??\n",
    "</div>"
   ]
  },
  {
   "cell_type": "markdown",
   "id": "a87d1992",
   "metadata": {},
   "source": [
    "### 6. Importing the data \n",
    "\n",
    "<div style=\"text-align: justify;margin-right:50px\">\n",
    "??\n",
    "</div>"
   ]
  },
  {
   "cell_type": "markdown",
   "id": "71af3c08",
   "metadata": {},
   "source": [
    "## 😮‍💨 Difficulties\n",
    "\n",
    "<div style=\"text-align: justify;margin-right:50px\">\n",
    "The first difficulty was related to finding the adsorbents. No already done Dataframe was found with interesting caracteristics for the project. The csv was therefore done by hand, taking the results from a publication named <em>Industrial & Engineering Chemistry Research</em> [1]. \n",
    "<br><br>\n",
    "The second difficulty was to learn how to work with those different types of languages. Indeed, to create a interactive and cool website, the plotly library has been red again and again to adjust the details and to familirize with this type of work. Some part as the Callbacks were completely new and therefore takes a long time before using it correctly. \n",
    "<br><br>\n",
    "Another difficulty was to set the Dark Mode. The style of the div was initially hard coded before the discovery for Dash Bootstrap Components. It was therefore changed in the code which was actually more complicated than expected (you can ask arsenijs). \n",
    "<br><br>\n",
    "As the project was at first done on one huge python document, the separation was more complicated than expected due to the circular import.\n",
    "<br><br>\n",
    "Once adding the Bootstrap library, the function to count the number of points on the graph was not working. It takes a long time and a lot of dictionnary and list knowlegdes to make it works again. \n",
    "</div>"
   ]
  },
  {
   "cell_type": "markdown",
   "id": "f5c22636",
   "metadata": {},
   "source": [
    "## ⚙️ Limitations\n",
    "\n",
    "<div style=\"text-align: justify;margin-right:50px\">\n",
    "As the adsorbents are used in many fields, a lot of data can not be found in the internet. Therefore, the csv file must not be complete for precise research or for selective work. \n",
    "</div>"
   ]
  },
  {
   "cell_type": "markdown",
   "id": "0a8a912a",
   "metadata": {},
   "source": [
    "## 📔 References\n",
    "\n",
    "<div style=\"text-align: justify;margin-right:50px\">\n",
    "<ol>\n",
    "<li>Ye, Wenxing, Weihai Liang, Qingyuan Luo, Xiaoru Liang, et Chao Chen. « Recent Progress in CO2 Capture by Porous Solid Materials ». Industrial & Engineering Chemistry Research 64, nᵒ 8 (26 february 2025): 4148‑78. https://doi.org/10.1021/acs.iecr.4c04027.</li>\n",
    "</ol>\n",
    "</div>\n"
   ]
  }
 ],
 "metadata": {
  "kernelspec": {
   "display_name": "base",
   "language": "python",
   "name": "python3"
  },
  "language_info": {
   "codemirror_mode": {
    "name": "ipython",
    "version": 3
   },
   "file_extension": ".py",
   "mimetype": "text/x-python",
   "name": "python",
   "nbconvert_exporter": "python",
   "pygments_lexer": "ipython3",
   "version": "3.12.7"
  }
 },
 "nbformat": 4,
 "nbformat_minor": 5
}
